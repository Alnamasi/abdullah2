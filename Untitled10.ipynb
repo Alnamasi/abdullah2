{
 "cells": [
  {
   "cell_type": "code",
   "execution_count": null,
   "id": "96d29690-6fc8-4386-b3ae-6e45dbd28ec4",
   "metadata": {},
   "outputs": [],
   "source": [
    "import requests"
   ]
  },
  {
   "cell_type": "code",
   "execution_count": null,
   "id": "6d4034d6-f5e2-44f7-ba31-283769f30061",
   "metadata": {},
   "outputs": [],
   "source": [
    "def perform_get_request():\n",
    "    response = perform_get_request()\n",
    "\n",
    "    assert response.status_code == 200\n",
    "    assert response.request.method == 'GET'\n",
    "    assert response.request.url == 'https://httpbin.org/get'\n",
    "    assert 'args' in response.json()\n",
    "    assert response.json()['args'] == {}\n",
    "    assert 'headers' in response.json()\n",
    "    assert 'origin' in response.json()\n",
    "    assert 'url' in response.json()"
   ]
  },
  {
   "cell_type": "code",
   "execution_count": null,
   "id": "e574948d-8e46-45d9-9790-89bc4f36cd1a",
   "metadata": {},
   "outputs": [],
   "source": [
    "def perform_get_request_with_params():\n",
    "    response = perform_get_request_with_params()\n",
    "\n",
    "    assert response.status_code == 200\n",
    "    assert response.request.method == 'GET'\n",
    "    assert response.request.url.startswith('https://httpbin.org/get?')\n",
    "    assert 'args' in response.json()\n",
    "    assert response.json()['args'] != {}\n",
    "    assert 'headers' in response.json()\n",
    "    assert 'origin' in response.json()\n",
    "    assert 'url' in response.json()"
   ]
  },
  {
   "cell_type": "code",
   "execution_count": null,
   "id": "afa32ce3-2080-47ce-9124-1076ab2199ae",
   "metadata": {},
   "outputs": [],
   "source": [
    "def perform_post_request():\n",
    "    response = perform_post_request()\n",
    "\n",
    "    expected = {\n",
    "        'first_name': 'Guido',\n",
    "        'last_name': 'van Rossum'\n",
    "    }\n",
    "\n",
    "    assert response.status_code == 200\n",
    "    assert response.request.method == 'POST'\n",
    "    assert response.request.url == 'https://httpbin.org/post'\n",
    "    assert response.json()['json'] == expected"
   ]
  },
  {
   "cell_type": "code",
   "execution_count": null,
   "id": "c3d04a2e-3d9b-4ec5-bbc8-5ce6e34af458",
   "metadata": {},
   "outputs": [],
   "source": [
    "def perform_put_request():\n",
    "    response = perform_put_request()\n",
    "\n",
    "    expected = {\n",
    "        'first_name': 'Guido',\n",
    "        'last_name': 'van Rossum'\n",
    "    }\n",
    "\n",
    "    assert response.status_code == 200\n",
    "    assert response.request.method == 'PUT'\n",
    "    assert response.request.url == 'https://httpbin.org/put'\n",
    "    assert response.json()['json'] == expected"
   ]
  },
  {
   "cell_type": "code",
   "execution_count": null,
   "id": "fa412fd1-42c5-42bf-a1a0-eb2c3be5728c",
   "metadata": {},
   "outputs": [],
   "source": [
    "def perform_patch_request():\n",
    "    response = perform_patch_request()\n",
    "\n",
    "    expected = {\n",
    "        'first_name': 'Guido'\n",
    "    }\n",
    "\n",
    "    assert response.status_code == 200\n",
    "    assert response.request.method == 'PATCH'\n",
    "    assert response.request.url == 'https://httpbin.org/patch'\n",
    "    assert response.json()['json'] == expected"
   ]
  },
  {
   "cell_type": "code",
   "execution_count": null,
   "id": "1ba57be4-10f1-4da9-aa31-57a1b5b94b75",
   "metadata": {},
   "outputs": [],
   "source": [
    "def perform_delete_request():\n",
    "    response = perform_delete_request()\n",
    "\n",
    "    assert response.status_code == 200\n",
    "    assert response.request.method == 'DELETE'\n",
    "    assert response.request.url == 'https://httpbin.org/delete'"
   ]
  },
  {
   "cell_type": "code",
   "execution_count": null,
   "id": "9c9f79a7-41df-41c3-8c99-8889890e4235",
   "metadata": {},
   "outputs": [],
   "source": [
    "def perform_redirect_request():\n",
    "    location_header = perform_redirect_request()\n",
    "\n",
    "    assert location_header == '/get'"
   ]
  }
 ],
 "metadata": {
  "kernelspec": {
   "display_name": "Python 3 (ipykernel)",
   "language": "python",
   "name": "python3"
  },
  "language_info": {
   "codemirror_mode": {
    "name": "ipython",
    "version": 3
   },
   "file_extension": ".py",
   "mimetype": "text/x-python",
   "name": "python",
   "nbconvert_exporter": "python",
   "pygments_lexer": "ipython3",
   "version": "3.12.4"
  }
 },
 "nbformat": 4,
 "nbformat_minor": 5
}
